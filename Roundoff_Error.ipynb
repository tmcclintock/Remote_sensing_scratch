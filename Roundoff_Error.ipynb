{
 "cells": [
  {
   "cell_type": "markdown",
   "metadata": {},
   "source": [
    "# Roundoff error\n",
    "\n",
    "When a floating point number is converted to an integer, this always causes rounding error. By default in most programming languages if you immediately set a float to an integer it will *always round down*, so for instance 1.9 will become 1. This is called **casting**. On the other hand, if you specifically tell a programming language to round, it will do the usual rounding up or down."
   ]
  },
  {
   "cell_type": "code",
   "execution_count": 1,
   "metadata": {
    "collapsed": false
   },
   "outputs": [
    {
     "name": "stdout",
     "output_type": "stream",
     "text": [
      "x =  1.9\n",
      "casting: int(x) =  1\n",
      "rounding: round(x) =  2.0\n"
     ]
    }
   ],
   "source": [
    "#Example cast\n",
    "x = 1.9\n",
    "print \"x = \",x\n",
    "print \"casting: int(x) = \", int(x)\n",
    "print \"rounding: round(x) = \", round(x)"
   ]
  },
  {
   "cell_type": "markdown",
   "metadata": {},
   "source": [
    "By default, the matlab mean() function acts just like in python (the language I'm using here), which returns a *float*, or something with a decimal. This is also known as a *numeric* in some other programming languages."
   ]
  },
  {
   "cell_type": "code",
   "execution_count": 2,
   "metadata": {
    "collapsed": false
   },
   "outputs": [
    {
     "name": "stdout",
     "output_type": "stream",
     "text": [
      "[3 4 6 5 2 0 0 3 0 2 5 3 2 7 4 7 6 3 1 0 7 6 4 6 0 8 0 2 9 2]\n",
      "mean(x) =  3.56666666667\n",
      "int(mean) 3\n",
      "round(mean) 4.0\n"
     ]
    }
   ],
   "source": [
    "#Common computations are calculated in this module, called numpy\n",
    "#Just ignore this line\n",
    "import numpy as np\n",
    "np.random.seed(1234567)\n",
    "\n",
    "#Create an array of 30 random integers between 0 and 10\n",
    "x = np.random.randint(0, 10, 30)\n",
    "print x\n",
    "#Calculate the mean\n",
    "mean = np.mean(x)\n",
    "print \"mean(x) = \", mean\n",
    "print \"int(mean)\", int(mean)\n",
    "print \"round(mean)\", round(mean)"
   ]
  },
  {
   "cell_type": "markdown",
   "metadata": {},
   "source": [
    "It is very likely that you are using a cast instead of a round, since I think what you are acutally doing is doing integer division (i.e. dividing a sum of integers by an integer automatically does a cast):"
   ]
  },
  {
   "cell_type": "code",
   "execution_count": 3,
   "metadata": {
    "collapsed": false
   },
   "outputs": [
    {
     "name": "stdout",
     "output_type": "stream",
     "text": [
      "3\n"
     ]
    }
   ],
   "source": [
    "#Integer division does a cast by default\n",
    "print sum(x)/len(x)"
   ]
  },
  {
   "cell_type": "markdown",
   "metadata": {},
   "source": [
    "Therefore, in the **worst case** each of your \"mean pixel\" values are off by 1 (or 0.999999 but w/e). Now you can ask, how much does this really matter for the final data product? Let's see.\n",
    "\n",
    "Each of your pixel values $p\\in(G,R,B)$ goes from 0 to 256. The greenness ($f$) is given by:\n",
    "\n",
    "$f(G,R,B) = \\frac{G}{G+R+B} = \\frac{G}{\\sum_i p_i} = G/T$\n",
    "where $T = G+R+B$.\n",
    "\n",
    "By propogation of errors, we know that:\n",
    "\n",
    "$\\sigma_f = \\sqrt{\\sum_i\\sigma_i^2\\left(\\frac{df}{dp_i}\\right)^2}$.\n",
    "\n",
    "Let's assume the worst case and pretend that $\\sigma_i=1$, meaning that each $p_i$ value is off by 1. Therefore, we see that:\n",
    "\n",
    "$\\sigma_f = \\sqrt{\\frac{1}{T^2} +\\frac{2G}{T^3} + \\frac{3G^2}{T^4}}$,\n",
    "and now we can make plots of $f$ and $\\sigma_f$."
   ]
  },
  {
   "cell_type": "code",
   "execution_count": 4,
   "metadata": {
    "collapsed": true
   },
   "outputs": [],
   "source": [
    "#Define a function for f\n",
    "def f_function(G, R, B):\n",
    "    return G/(G+R+B)\n",
    "\n",
    "#Define a function for sigmaf\n",
    "#Note, exponents in python are the ** operator instead of ^\n",
    "def sigmaf_function(G, R, B):\n",
    "    T = G+R+B\n",
    "    return np.sqrt(1./T**2 + G*2./T**3 + G**2.*3./T**4)"
   ]
  },
  {
   "cell_type": "code",
   "execution_count": 5,
   "metadata": {
    "collapsed": false
   },
   "outputs": [
    {
     "data": {
      "text/plain": [
       "<matplotlib.text.Text at 0x7f70628b5310>"
      ]
     },
     "execution_count": 5,
     "metadata": {},
     "output_type": "execute_result"
    },
    {
     "data": {
      "image/png": "[encoded data removed]",
      "text/plain": [
       "<matplotlib.figure.Figure at 0x7f7080141c50>"
      ]
     },
     "metadata": {},
     "output_type": "display_data"
    }
   ],
   "source": [
    "#To make plots we use this. Ignore the next two lines\n",
    "import matplotlib.pyplot as plt\n",
    "%matplotlib inline\n",
    "\n",
    "#Define a range of G values\n",
    "G = np.linspace(1., 256., 256)\n",
    "\n",
    "#Let R and B be constants at 100\n",
    "R = 100.\n",
    "B = 100.\n",
    "\n",
    "#Calculate f, the \"greenness\"\n",
    "f = f_function(G, R, B)\n",
    "sigmaf = sigmaf_function(G, R, B)\n",
    "\n",
    "#Plot the ratio of the error over f\n",
    "plt.plot(G, sigmaf/f)\n",
    "plt.ylabel(r\"$\\sigma_f/f$\", fontsize=24)\n",
    "plt.xlabel(r\"$G$\", fontsize=24)"
   ]
  },
  {
   "cell_type": "code",
   "execution_count": 6,
   "metadata": {
    "collapsed": false
   },
   "outputs": [
    {
     "data": {
      "text/plain": [
       "<matplotlib.text.Text at 0x7f70625f6550>"
      ]
     },
     "execution_count": 6,
     "metadata": {},
     "output_type": "execute_result"
    },
    {
     "data": {
      "image/png": "[encoded data removed]",
      "text/plain": [
       "<matplotlib.figure.Figure at 0x7f70801416d0>"
      ]
     },
     "metadata": {},
     "output_type": "display_data"
    }
   ],
   "source": [
    "#or in a log scale\n",
    "plt.loglog(G, sigmaf/f)\n",
    "plt.ylabel(r\"$\\sigma_f/f$\", fontsize=24)\n",
    "plt.xlabel(r\"$G$\", fontsize=24)"
   ]
  },
  {
   "cell_type": "markdown",
   "metadata": {},
   "source": [
    "So, in the **worst case**, where you are off by a full pixel in every color channel, your greenness might be off by 10% at $G=10$. At $G=100$ your greenness is off by around 1%. In a more likely scenario, your pixel values are all off by approximately 0.5, which means that the ratio $\\sigma_f/f$ would go down by a factor of 2, so that means that your greenness is off by 5% at $G=10$ and by 0.5% at $G=100$.\n",
    "\n",
    "Past this point I don't know how much this might affect your results. Since you take daily averages the roundoff error will tend to average to 0.5, and so each of your points could be scattered up/down by the amount in the graph. I would imagine that this would amount to an ~1% affect on the green-up time scale in the worst case. So if the green-up time was 50 days then you would be off by about 0.5 days.\n",
    "\n",
    "What if something had a whole lot less $R$ and $B$, though?"
   ]
  },
  {
   "cell_type": "code",
   "execution_count": 7,
   "metadata": {
    "collapsed": false
   },
   "outputs": [
    {
     "data": {
      "text/plain": [
       "<matplotlib.text.Text at 0x7f706240f4d0>"
      ]
     },
     "execution_count": 7,
     "metadata": {},
     "output_type": "execute_result"
    },
    {
     "data": {
      "image/png": "[encoded data removed]",
      "text/plain": [
       "<matplotlib.figure.Figure at 0x7f706238a350>"
      ]
     },
     "metadata": {},
     "output_type": "display_data"
    }
   ],
   "source": [
    "#If something has not a whole lot of R and B though, could this get worse?\n",
    "R = 30.\n",
    "B = 30.\n",
    "\n",
    "#Calculate f, the \"greenness\"\n",
    "f = f_function(G, R, B)\n",
    "sigmaf = sigmaf_function(G, R, B)\n",
    "\n",
    "#Plot\n",
    "plt.loglog(G, sigmaf/f)\n",
    "plt.ylabel(r\"$\\sigma_f/f$\", fontsize=24)\n",
    "plt.xlabel(r\"$G$\", fontsize=24)"
   ]
  },
  {
   "cell_type": "markdown",
   "metadata": {},
   "source": [
    "Not really. The scales are still very simlar, as before"
   ]
  }
 ],
 "metadata": {
  "kernelspec": {
   "display_name": "Python 2",
   "language": "python",
   "name": "python2"
  },
  "language_info": {
   "codemirror_mode": {
    "name": "ipython",
    "version": 2
   },
   "file_extension": ".py",
   "mimetype": "text/x-python",
   "name": "python",
   "nbconvert_exporter": "python",
   "pygments_lexer": "ipython2",
   "version": "2.7.12"
  }
 },
 "nbformat": 4,
 "nbformat_minor": 0
}
